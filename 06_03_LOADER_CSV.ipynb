{
  "nbformat": 4,
  "nbformat_minor": 0,
  "metadata": {
    "colab": {
      "private_outputs": true,
      "provenance": [],
      "authorship_tag": "ABX9TyM96EneZPDBIC7dg9xjUpgJ",
      "include_colab_link": true
    },
    "kernelspec": {
      "name": "python3",
      "display_name": "Python 3"
    },
    "language_info": {
      "name": "python"
    }
  },
  "cells": [
    {
      "cell_type": "markdown",
      "metadata": {
        "id": "view-in-github",
        "colab_type": "text"
      },
      "source": [
        "<a href=\"https://colab.research.google.com/github/kongnamhyun/jju/blob/main/06_03_LOADER_CSV.ipynb\" target=\"_parent\"><img src=\"https://colab.research.google.com/assets/colab-badge.svg\" alt=\"Open In Colab\"/></a>"
      ]
    },
    {
      "cell_type": "markdown",
      "source": [
        "## 데이터 파싱 코드"
      ],
      "metadata": {
        "id": "D756SqfzF9nM"
      }
    },
    {
      "cell_type": "code",
      "source": [
        "pip install -qU langchain_community"
      ],
      "metadata": {
        "id": "kSa0gPhZEIK8"
      },
      "execution_count": null,
      "outputs": []
    },
    {
      "cell_type": "code",
      "execution_count": null,
      "metadata": {
        "id": "HuSWmjDpCHLK"
      },
      "outputs": [],
      "source": [
        "from langchain.document_loaders.csv_loader import CSVLoader\n",
        "\n",
        "# CSV 파일 경로\n",
        "loader = CSVLoader(\n",
        "    file_path=\"/content/data/boston_housing.csv\",\n",
        "    csv_args={\n",
        "        \"delimiter\": \",\",  # 구분자\n",
        "        \"quotechar\": '\"',  # 인용 부호 문자\n",
        "        \"fieldnames\": [\n",
        "            \"CRIM\",   # 인구당 범죄율\n",
        "            \"ZN\",     # 25,000 평방피트를 초과하는 거주 구역 비율\n",
        "            \"INDUS\",  # 비소매 상업 지역 비율\n",
        "            \"CHAS\",   # 찰스강 인접 여부 (1: 인접, 0: 비인접)\n",
        "            \"NOX\",    # 일산화질소 농도\n",
        "            \"RM\",     # 주택당 평균 방 개수\n",
        "            \"AGE\",    # 1940년 이전에 건축된 주택 비율\n",
        "            \"DIS\",    # 5개 보스턴 고용 센터까지의 거리\n",
        "            \"RAD\",    # 고속도로 접근성 지수\n",
        "            \"TAX\",    # 10,000달러당 재산세율\n",
        "            \"PTRATIO\", # 지역별 학생-교사 비율\n",
        "            \"B\",      # 흑인 비율\n",
        "            \"LSTAT\",  # 저소득층 비율\n",
        "            \"PRICE\",  # 주택 가격 (목표 변수)\n",
        "        ],  # 필드 이름\n",
        "    },\n",
        ")\n"
      ]
    },
    {
      "cell_type": "markdown",
      "source": [
        "## UNSTRUCTED"
      ],
      "metadata": {
        "id": "msHK_Va6GCxb"
      }
    },
    {
      "cell_type": "code",
      "source": [
        "pip install -qU unstructured"
      ],
      "metadata": {
        "id": "QckjFdH9EeG1"
      },
      "execution_count": null,
      "outputs": []
    },
    {
      "cell_type": "code",
      "source": [
        "from langchain_community.document_loaders.csv_loader import UnstructuredCSVLoader\n",
        "\n",
        "# 비구조화 CSV 로더 인스턴스 생성\n",
        "loader = UnstructuredCSVLoader(file_path=\"/content/data/bostion_housing.csv\", mode=\"elements\")\n",
        "\n",
        "# 문서 로드\n",
        "docs = loader.load()\n",
        "\n",
        "# 첫 번째 문서의 HTML 텍스트 메타데이터 출력\n",
        "if docs and \"text_as_html\" in docs[0].metadata:\n",
        "    print(docs[0].metadata[\"text_as_html\"][:1000])\n",
        "else:\n",
        "    print(\"문서에 HTML 텍스트 메타데이터가 없습니다.\")\n"
      ],
      "metadata": {
        "id": "95rOryqqEfQe"
      },
      "execution_count": null,
      "outputs": []
    },
    {
      "cell_type": "markdown",
      "source": [
        "## XML"
      ],
      "metadata": {
        "id": "lbgoZSBKGLxF"
      }
    },
    {
      "cell_type": "code",
      "source": [
        "# XML 형식으로 변환된 데이터 저장\n",
        "xml_data = \"\"\n",
        "\n",
        "# 상위 10개 데이터 추출\n",
        "for i, doc in enumerate(docs[:10]):  # 첫 10개 행만 처리\n",
        "    row = doc.page_content.split(\"\\n\")\n",
        "    row_str = \"<row>\"\n",
        "    for element in row:\n",
        "        splitter_element = element.split(\".\")\n",
        "        value = splitter_element[-1]  # 값\n",
        "        col = \":\".join(splitter_element[:-1])  # 컬럼 이름\n",
        "        row_str += f\"<{col}>{value}</{col}>\"\n",
        "    row_str += \"</row>\"\n",
        "    xml_data += row_str\n",
        "\n",
        "print(xml_data)\n"
      ],
      "metadata": {
        "id": "s3W8u5xkF6IM"
      },
      "execution_count": null,
      "outputs": []
    }
  ]
}