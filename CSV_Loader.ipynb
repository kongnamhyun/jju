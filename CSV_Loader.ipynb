{
  "nbformat": 4,
  "nbformat_minor": 0,
  "metadata": {
    "colab": {
      "private_outputs": true,
      "provenance": [],
      "authorship_tag": "ABX9TyNgJv62XUtWqSZH/khO5k/O",
      "include_colab_link": true
    },
    "kernelspec": {
      "name": "python3",
      "display_name": "Python 3"
    },
    "language_info": {
      "name": "python"
    }
  },
  "cells": [
    {
      "cell_type": "markdown",
      "metadata": {
        "id": "view-in-github",
        "colab_type": "text"
      },
      "source": [
        "<a href=\"https://colab.research.google.com/github/kongnamhyun/jju/blob/main/CSV_Loader.ipynb\" target=\"_parent\"><img src=\"https://colab.research.google.com/assets/colab-badge.svg\" alt=\"Open In Colab\"/></a>"
      ]
    },
    {
      "cell_type": "markdown",
      "source": [
        "## CSV Loader"
      ],
      "metadata": {
        "id": "4Rg0cKq2-knX"
      }
    },
    {
      "cell_type": "code",
      "source": [
        "pip install langchain_community"
      ],
      "metadata": {
        "id": "0dfxvqZ5A_wc"
      },
      "execution_count": null,
      "outputs": []
    },
    {
      "cell_type": "code",
      "execution_count": null,
      "metadata": {
        "id": "jUlqzBDI-fIa"
      },
      "outputs": [],
      "source": [
        "from langchain_community.document_loaders.csv_loader import CSVLoader\n",
        "\n",
        "# CSV 로더 생성\n",
        "loader = CSVLoader(file_path=\"/content/data/titanic.csv\")\n",
        "\n",
        "# 데이터 로드\n",
        "docs = loader.load()\n",
        "\n",
        "print(len(docs))\n",
        "print(docs[0].metadata)\n"
      ]
    },
    {
      "cell_type": "markdown",
      "source": [
        "## MetaData\n"
      ],
      "metadata": {
        "id": "lxPBVrc-CKwr"
      }
    },
    {
      "cell_type": "code",
      "source": [
        "print(docs[0].metadata)"
      ],
      "metadata": {
        "id": "TbASbqaPCzW4"
      },
      "execution_count": null,
      "outputs": []
    },
    {
      "cell_type": "markdown",
      "source": [],
      "metadata": {
        "id": "xQh4NcacCRZT"
      }
    },
    {
      "cell_type": "markdown",
      "source": [
        "## Contents"
      ],
      "metadata": {
        "id": "pzxURW4_CZIW"
      }
    },
    {
      "cell_type": "code",
      "source": [
        "# 데이터 출력\n",
        "print(docs[1].page_content)"
      ],
      "metadata": {
        "id": "NE4_AcxvCHhJ"
      },
      "execution_count": null,
      "outputs": []
    },
    {
      "cell_type": "markdown",
      "source": [
        "## 구조화"
      ],
      "metadata": {
        "id": "gW1tWB6kC3rf"
      }
    },
    {
      "cell_type": "code",
      "source": [
        "# CSV 파일 경로\n",
        "loader = CSVLoader(\n",
        "    file_path=\"/content/data/titanic.csv\",\n",
        "    csv_args={\n",
        "        \"delimiter\": \",\",  # 구분자\n",
        "        \"quotechar\": '\"',  # 인용 부호 문자\n",
        "        \"fieldnames\": [\n",
        "            \"Passenger ID\",\n",
        "            \"Survival (1: Survived, 0: Died)\",\n",
        "            \"Passenger Class\",\n",
        "            \"Name\",\n",
        "            \"Sex\",\n",
        "            \"Age\",\n",
        "            \"Number of Siblings/Spouses Aboard\",\n",
        "            \"Number of Parents/Children Aboard\",\n",
        "            \"Ticket Number\",\n",
        "            \"Fare\",\n",
        "            \"Cabin\",\n",
        "            \"Port of Embarkation\",\n",
        "        ],  # 필드 이름\n",
        "    },\n",
        ")"
      ],
      "metadata": {
        "id": "jYbWoHStC39u"
      },
      "execution_count": null,
      "outputs": []
    },
    {
      "cell_type": "markdown",
      "source": [
        "## Contents, Metadata"
      ],
      "metadata": {
        "id": "QJQ86U5ZDqC9"
      }
    },
    {
      "cell_type": "code",
      "source": [
        "print(docs[1].metadata)"
      ],
      "metadata": {
        "id": "iPkJ5uOkDvt0"
      },
      "execution_count": null,
      "outputs": []
    },
    {
      "cell_type": "code",
      "source": [
        "print(docs[0].page_content)"
      ],
      "metadata": {
        "id": "9qGBdj-PD282"
      },
      "execution_count": null,
      "outputs": []
    },
    {
      "cell_type": "markdown",
      "source": [
        "## Export as XML"
      ],
      "metadata": {
        "id": "DGkR9_vKErhl"
      }
    },
    {
      "cell_type": "code",
      "source": [
        "row = docs[1].page_content.split(\"\\n\")\n",
        "row_str =\"<row>\"\n",
        "for element in row:\n",
        "  splitter_element = element.split(\".\")\n",
        "  value = splitter_element[-1]\n",
        "  col = \":\".join(splitter_element[:-1])\n",
        "  row_str += f\"<{col}>{value}</{col}>\"\n",
        "row_str += \"</row>\"\n",
        "print(row_str)"
      ],
      "metadata": {
        "id": "0_PZD3iKEuUn"
      },
      "execution_count": null,
      "outputs": []
    },
    {
      "cell_type": "markdown",
      "source": [
        "## UnstructuredCSVLoader"
      ],
      "metadata": {
        "id": "uyuymKw6LV_H"
      }
    },
    {
      "cell_type": "code",
      "source": [
        "pip install -qU unstructured"
      ],
      "metadata": {
        "id": "l7rXNVW5Libv"
      },
      "execution_count": null,
      "outputs": []
    },
    {
      "cell_type": "code",
      "source": [
        "from langchain_community.document_loaders.csv_loader import UnstructuredCSVLoader\n",
        "\n",
        "# 비구조화 CSV 로더 인스턴스 생성\n",
        "loader = UnstructuredCSVLoader(file_path=\"./data/titanic.csv\", mode=\"elements\")\n",
        "\n",
        "# 문서 로드\n",
        "docs = loader.load()\n",
        "\n",
        "# 첫 번째 문서의 HTML 텍스트 메타데이터 출력\n",
        "print(docs[0].metadata[\"text_as_html\"][:1000])\n"
      ],
      "metadata": {
        "id": "CBnmVe95LbnW"
      },
      "execution_count": null,
      "outputs": []
    },
    {
      "cell_type": "markdown",
      "source": [
        "## Dataframe loader"
      ],
      "metadata": {
        "id": "bR9FglQ8Mi33"
      }
    },
    {
      "cell_type": "code",
      "source": [
        "import pandas as pd\n",
        "\n",
        "# CSV 파일 읽기\n",
        "df = pd.read_csv(\"/content/data/titanic.csv\")"
      ],
      "metadata": {
        "id": "_tmg0M3JMmlm"
      },
      "execution_count": null,
      "outputs": []
    },
    {
      "cell_type": "code",
      "source": [
        "# 데이터프레임의 처음 다섯 행 조회\n",
        "df.head()\n"
      ],
      "metadata": {
        "id": "brFflegEMzEO"
      },
      "execution_count": null,
      "outputs": []
    },
    {
      "cell_type": "code",
      "source": [
        "from langchain_community.document_loaders import DataFrameLoader\n",
        "\n",
        "# 데이터 프레임 로더 설정, 페이지 내용 컬럼 지정\n",
        "loader = DataFrameLoader(df, page_content_column=\"Name\")\n",
        "\n",
        "# 문서 로드\n",
        "docs = loader.load()\n",
        "\n",
        "# 데이터 출력\n",
        "print(docs[0].page_content)\n",
        "\n",
        "# 메타데이터 출력\n",
        "print(docs[0].metadata)\n"
      ],
      "metadata": {
        "id": "j-_AO8WAM070"
      },
      "execution_count": null,
      "outputs": []
    }
  ]
}