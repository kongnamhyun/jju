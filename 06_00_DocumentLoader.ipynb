{
  "nbformat": 4,
  "nbformat_minor": 0,
  "metadata": {
    "colab": {
      "private_outputs": true,
      "provenance": []
    },
    "kernelspec": {
      "name": "python3",
      "display_name": "Python 3"
    },
    "language_info": {
      "name": "python"
    }
  },
  "cells": [
    {
      "cell_type": "markdown",
      "source": [
        "- 사용문서 링크\n",
        " - https://spri.kr/posts/view/23669"
      ],
      "metadata": {
        "id": "o67HISztdHPs"
      }
    },
    {
      "cell_type": "code",
      "execution_count": null,
      "metadata": {
        "id": "XkwflWYGc-YN"
      },
      "outputs": [],
      "source": [
        "from langchain_core.documents import Document\n",
        "\n",
        "document = Document(\"안녕하세요? 이건 랭체인의 도큐먼드 입니다\")\n"
      ]
    },
    {
      "cell_type": "code",
      "source": [
        "# 도큐먼트의 속성 확인\n",
        "document.__dict__\n"
      ],
      "metadata": {
        "id": "zO6Fo9_1deI-"
      },
      "execution_count": null,
      "outputs": []
    },
    {
      "cell_type": "code",
      "source": [
        "# 메타데이터 추가\n",
        "document.metadata[\"source\"] = \"TeddyNote\"\n",
        "document.metadata[\"page\"] = 1\n",
        "document.metadata[\"author\"] = \"Teddy\"\n"
      ],
      "metadata": {
        "id": "9nh1tjVpdgPS"
      },
      "execution_count": null,
      "outputs": []
    },
    {
      "cell_type": "markdown",
      "source": [
        "##Document Loader\n",
        "다양한 파일의 형식으로부터 불러온 내용을 문서(Document) 객체로 변환하는 역할을 합니다.\n",
        "\n",
        "##주요 Loader\n",
        "- PyPDFLoader: PDF 파일을 로드하는 로더입니다.\n",
        "- CSVLoader: CSV 파일을 로드하는 로더입니다.\n",
        "- UnstructuredHTMLLoader: HTML 파일을 로드하는 로더입니다.\n",
        "- JSONLoader: JSON 파일을 로드하는 로더입니다.\n",
        "- TextLoader: 텍스트 파일을 로드하는 로더입니다.\n",
        "- DirectoryLoader: 디렉토리를 로드하는 로더입니다.\n",
        "- UpstageLoder\n",
        "- LLaMAlndexLoder"
      ],
      "metadata": {
        "id": "5cHSnRBSd7XK"
      }
    },
    {
      "cell_type": "markdown",
      "source": [
        "##1. PyPDF Loader"
      ],
      "metadata": {
        "id": "PKtpc6tPib9X"
      }
    },
    {
      "cell_type": "code",
      "source": [
        "FILE_PATH = '/content/data/SPRI_AI_Brief_2023년12월호_F.pdf'"
      ],
      "metadata": {
        "id": "vyoR1iemePxI"
      },
      "execution_count": null,
      "outputs": []
    },
    {
      "cell_type": "code",
      "source": [
        "pip install -qU langchain_community"
      ],
      "metadata": {
        "id": "vk8cQJjhjIzh"
      },
      "execution_count": null,
      "outputs": []
    },
    {
      "cell_type": "code",
      "source": [
        "pip install -qU pypdf"
      ],
      "metadata": {
        "id": "gy87Q4TgjV7z"
      },
      "execution_count": null,
      "outputs": []
    },
    {
      "cell_type": "code",
      "source": [
        "from langchain_community.document_loaders import PyPDFLoader\n",
        "\n",
        "# 로더 설정\n",
        "loader = PyPDFLoader(FILE_PATH)"
      ],
      "metadata": {
        "id": "u5nuQN_-i-Tr"
      },
      "execution_count": null,
      "outputs": []
    },
    {
      "cell_type": "markdown",
      "source": [
        "## 1.1 Load"
      ],
      "metadata": {
        "id": "7Y6H_w3uj9n1"
      }
    },
    {
      "cell_type": "code",
      "source": [
        "# PDF 로더\n",
        "docs = loader.load()\n",
        "\n",
        "# 로드된 문서의 수 확인\n",
        "len(docs)"
      ],
      "metadata": {
        "id": "KmJLS6cMj6cM"
      },
      "execution_count": null,
      "outputs": []
    },
    {
      "cell_type": "code",
      "source": [
        "docs[3]"
      ],
      "metadata": {
        "id": "pj1VEBRakDH5"
      },
      "execution_count": null,
      "outputs": []
    },
    {
      "cell_type": "markdown",
      "source": [
        "## 1.2 TextSplit"
      ],
      "metadata": {
        "id": "yX2cXm-klR6S"
      }
    },
    {
      "cell_type": "code",
      "source": [
        "from langchain_text_splitters import CharacterTextSplitter"
      ],
      "metadata": {
        "id": "0XeYd7W0lZAM"
      },
      "execution_count": null,
      "outputs": []
    },
    {
      "cell_type": "code",
      "source": [
        "#문열 분할기 설정\n",
        "text_splitter = CharacterTextSplitter(chunk_size=200, chunk_overlap=0)"
      ],
      "metadata": {
        "id": "UBHqOUyXlVCV"
      },
      "execution_count": null,
      "outputs": []
    },
    {
      "cell_type": "code",
      "source": [
        "loader = PyPDFLoader(FILE_PATH)\n",
        "# 문서 분활\n",
        "split_docs = loader.load_and_split(text_splitter=text_splitter)"
      ],
      "metadata": {
        "id": "QUAj10celxBi"
      },
      "execution_count": null,
      "outputs": []
    },
    {
      "cell_type": "code",
      "source": [
        "# 로드된 문서 수 확인\n",
        "print(f'문서의 길이: [len(split_docs)]')\n",
        "# 첫 번째 문서 확인\n",
        "split_docs[20]"
      ],
      "metadata": {
        "id": "Fe_OPbzQl98J"
      },
      "execution_count": null,
      "outputs": []
    },
    {
      "cell_type": "markdown",
      "source": [
        "## 1.3 lazy_load"
      ],
      "metadata": {
        "id": "-rW-tY2qm26w"
      }
    },
    {
      "cell_type": "code",
      "source": [
        "loader.lazy_load()"
      ],
      "metadata": {
        "id": "ZGIuhUSSm9E7"
      },
      "execution_count": null,
      "outputs": []
    },
    {
      "cell_type": "code",
      "source": [
        "for doc in loader.lazy_load():\n",
        "  print(doc)\n",
        "  print('*' * 20)"
      ],
      "metadata": {
        "id": "6V9kIoajnFaX"
      },
      "execution_count": null,
      "outputs": []
    },
    {
      "cell_type": "markdown",
      "source": [
        "## 1.5 aload()"
      ],
      "metadata": {
        "id": "Rx_U0ID9p_P0"
      }
    },
    {
      "cell_type": "code",
      "source": [
        "# 문서를 async 방식으로 로드\n",
        "adocs = loader.aload()"
      ],
      "metadata": {
        "id": "5QTxfFZvnDK8"
      },
      "execution_count": null,
      "outputs": []
    },
    {
      "cell_type": "code",
      "source": [
        "# 문서 로드\n",
        "await adocs"
      ],
      "metadata": {
        "id": "ljBBF-9aqbEA"
      },
      "execution_count": null,
      "outputs": []
    },
    {
      "cell_type": "code",
      "source": [],
      "metadata": {
        "id": "bklHMRUZnDo9"
      },
      "execution_count": null,
      "outputs": []
    }
  ]
}